{
 "cells": [
  {
   "cell_type": "markdown",
   "metadata": {},
   "source": [
    "# Model selection"
   ]
  },
  {
   "cell_type": "code",
   "execution_count": 1,
   "metadata": {},
   "outputs": [],
   "source": [
    "import pandas as pd\n",
    "import sys\n",
    "import os\n",
    "sys.path.append(\"../\")\n",
    "from definitions import ROOT_DIR\n",
    "import numpy as np"
   ]
  },
  {
   "cell_type": "code",
   "execution_count": 2,
   "metadata": {},
   "outputs": [],
   "source": [
    "data_folder = os.path.join(ROOT_DIR, 'data/interim')"
   ]
  },
  {
   "cell_type": "code",
   "execution_count": 4,
   "metadata": {},
   "outputs": [],
   "source": [
    "data = pd.read_csv(os.path.join(data_folder, 'data_processed.csv'))\n",
    "films = pd.read_csv(os.path.join(data_folder, 'films_processed.csv'))\n",
    "users = pd.read_csv(os.path.join(data_folder, 'user_processed.csv'))"
   ]
  },
  {
   "cell_type": "code",
   "execution_count": 5,
   "metadata": {},
   "outputs": [
    {
     "data": {
      "text/html": [
       "<div>\n",
       "<style scoped>\n",
       "    .dataframe tbody tr th:only-of-type {\n",
       "        vertical-align: middle;\n",
       "    }\n",
       "\n",
       "    .dataframe tbody tr th {\n",
       "        vertical-align: top;\n",
       "    }\n",
       "\n",
       "    .dataframe thead th {\n",
       "        text-align: right;\n",
       "    }\n",
       "</style>\n",
       "<table border=\"1\" class=\"dataframe\">\n",
       "  <thead>\n",
       "    <tr style=\"text-align: right;\">\n",
       "      <th></th>\n",
       "      <th>user_id</th>\n",
       "      <th>item_id</th>\n",
       "      <th>rating</th>\n",
       "      <th>timestamp</th>\n",
       "      <th>user_emb_id</th>\n",
       "      <th>item_emb_id</th>\n",
       "    </tr>\n",
       "  </thead>\n",
       "  <tbody>\n",
       "    <tr>\n",
       "      <th>0</th>\n",
       "      <td>196</td>\n",
       "      <td>242</td>\n",
       "      <td>3</td>\n",
       "      <td>881250949</td>\n",
       "      <td>195</td>\n",
       "      <td>241</td>\n",
       "    </tr>\n",
       "    <tr>\n",
       "      <th>1</th>\n",
       "      <td>186</td>\n",
       "      <td>302</td>\n",
       "      <td>3</td>\n",
       "      <td>891717742</td>\n",
       "      <td>185</td>\n",
       "      <td>301</td>\n",
       "    </tr>\n",
       "  </tbody>\n",
       "</table>\n",
       "</div>"
      ],
      "text/plain": [
       "   user_id  item_id  rating  timestamp  user_emb_id  item_emb_id\n",
       "0      196      242       3  881250949          195          241\n",
       "1      186      302       3  891717742          185          301"
      ]
     },
     "execution_count": 5,
     "metadata": {},
     "output_type": "execute_result"
    }
   ],
   "source": [
    "data.head(2)"
   ]
  },
  {
   "cell_type": "code",
   "execution_count": 6,
   "metadata": {},
   "outputs": [
    {
     "data": {
      "text/html": [
       "<div>\n",
       "<style scoped>\n",
       "    .dataframe tbody tr th:only-of-type {\n",
       "        vertical-align: middle;\n",
       "    }\n",
       "\n",
       "    .dataframe tbody tr th {\n",
       "        vertical-align: top;\n",
       "    }\n",
       "\n",
       "    .dataframe thead th {\n",
       "        text-align: right;\n",
       "    }\n",
       "</style>\n",
       "<table border=\"1\" class=\"dataframe\">\n",
       "  <thead>\n",
       "    <tr style=\"text-align: right;\">\n",
       "      <th></th>\n",
       "      <th>movie_id</th>\n",
       "      <th>movie title</th>\n",
       "      <th>release_date</th>\n",
       "      <th>IMDb_URL</th>\n",
       "      <th>category</th>\n",
       "    </tr>\n",
       "  </thead>\n",
       "  <tbody>\n",
       "    <tr>\n",
       "      <th>0</th>\n",
       "      <td>1</td>\n",
       "      <td>Toy Story (1995)</td>\n",
       "      <td>01-Jan-1995</td>\n",
       "      <td>http://us.imdb.com/M/title-exact?Toy%20Story%2...</td>\n",
       "      <td>Animation|Children's|Comedy</td>\n",
       "    </tr>\n",
       "    <tr>\n",
       "      <th>1</th>\n",
       "      <td>2</td>\n",
       "      <td>GoldenEye (1995)</td>\n",
       "      <td>01-Jan-1995</td>\n",
       "      <td>http://us.imdb.com/M/title-exact?GoldenEye%20(...</td>\n",
       "      <td>Action|Adventure|Thriller</td>\n",
       "    </tr>\n",
       "  </tbody>\n",
       "</table>\n",
       "</div>"
      ],
      "text/plain": [
       "   movie_id       movie title release_date  \\\n",
       "0         1  Toy Story (1995)  01-Jan-1995   \n",
       "1         2  GoldenEye (1995)  01-Jan-1995   \n",
       "\n",
       "                                            IMDb_URL  \\\n",
       "0  http://us.imdb.com/M/title-exact?Toy%20Story%2...   \n",
       "1  http://us.imdb.com/M/title-exact?GoldenEye%20(...   \n",
       "\n",
       "                      category  \n",
       "0  Animation|Children's|Comedy  \n",
       "1    Action|Adventure|Thriller  "
      ]
     },
     "execution_count": 6,
     "metadata": {},
     "output_type": "execute_result"
    }
   ],
   "source": [
    "films.head(2)"
   ]
  },
  {
   "cell_type": "code",
   "execution_count": 7,
   "metadata": {},
   "outputs": [
    {
     "data": {
      "text/html": [
       "<div>\n",
       "<style scoped>\n",
       "    .dataframe tbody tr th:only-of-type {\n",
       "        vertical-align: middle;\n",
       "    }\n",
       "\n",
       "    .dataframe tbody tr th {\n",
       "        vertical-align: top;\n",
       "    }\n",
       "\n",
       "    .dataframe thead th {\n",
       "        text-align: right;\n",
       "    }\n",
       "</style>\n",
       "<table border=\"1\" class=\"dataframe\">\n",
       "  <thead>\n",
       "    <tr style=\"text-align: right;\">\n",
       "      <th></th>\n",
       "      <th>user_id</th>\n",
       "      <th>age</th>\n",
       "      <th>gender</th>\n",
       "      <th>occupation</th>\n",
       "      <th>zip_code</th>\n",
       "      <th>age_range</th>\n",
       "      <th>occ_desc</th>\n",
       "    </tr>\n",
       "  </thead>\n",
       "  <tbody>\n",
       "    <tr>\n",
       "      <th>0</th>\n",
       "      <td>1</td>\n",
       "      <td>24</td>\n",
       "      <td>M</td>\n",
       "      <td>technician</td>\n",
       "      <td>85711</td>\n",
       "      <td>18-24</td>\n",
       "      <td>19</td>\n",
       "    </tr>\n",
       "    <tr>\n",
       "      <th>1</th>\n",
       "      <td>2</td>\n",
       "      <td>53</td>\n",
       "      <td>F</td>\n",
       "      <td>other</td>\n",
       "      <td>94043</td>\n",
       "      <td>50-55</td>\n",
       "      <td>13</td>\n",
       "    </tr>\n",
       "  </tbody>\n",
       "</table>\n",
       "</div>"
      ],
      "text/plain": [
       "   user_id  age gender  occupation zip_code age_range  occ_desc\n",
       "0        1   24      M  technician    85711     18-24        19\n",
       "1        2   53      F       other    94043     50-55        13"
      ]
     },
     "execution_count": 7,
     "metadata": {},
     "output_type": "execute_result"
    }
   ],
   "source": [
    "users.head(2)"
   ]
  },
  {
   "cell_type": "code",
   "execution_count": 9,
   "metadata": {},
   "outputs": [
    {
     "name": "stdout",
     "output_type": "stream",
     "text": [
      "Users: [876 814  93 ... 436 283 221] , shape = (100000,)\n",
      "Movies: [380 601 430 ... 474 321 199] , shape = (100000,)\n",
      "Ratings: [4 3 4 ... 3 3 3] , shape = (100000,)\n"
     ]
    }
   ],
   "source": [
    "shuffled_ratings = data.sample(frac=1., random_state=42)\n",
    "\n",
    "Users = shuffled_ratings['user_emb_id'].values\n",
    "print('Users:', Users, ', shape =', Users.shape)\n",
    "\n",
    "Movies = shuffled_ratings['item_emb_id'].values\n",
    "print('Movies:', Movies, ', shape =', Movies.shape)\n",
    "\n",
    "# Shuffling ratings\n",
    "Ratings = shuffled_ratings['rating'].values\n",
    "print('Ratings:', Ratings, ', shape =', Ratings.shape)"
   ]
  },
  {
   "cell_type": "code",
   "execution_count": 12,
   "metadata": {},
   "outputs": [],
   "source": [
    "max_userid = data['user_id'].drop_duplicates().max()\n",
    "max_movieid = data['item_id'].drop_duplicates().max()"
   ]
  },
  {
   "cell_type": "code",
   "execution_count": 64,
   "metadata": {},
   "outputs": [],
   "source": [
    "from tensorflow.keras.layers import Embedding, Reshape, Dot, Input\n",
    "from tensorflow.keras.models import Model as KerasModel\n",
    "from keras.callbacks import Callback, EarlyStopping, ModelCheckpoint\n",
    "\n",
    "class Model(KerasModel):\n",
    "    def __init__(self, n_users, m_items, k_factors, **kwargs):\n",
    "        # Input layers for user and item\n",
    "        user_input = Input(shape=(1,), dtype='int32', name='user_input')\n",
    "        item_input = Input(shape=(1,), dtype='int32', name='item_input')\n",
    "\n",
    "        # Embedding layers for user and item\n",
    "        P = Embedding(n_users, k_factors, input_length=1)(user_input)\n",
    "        Q = Embedding(m_items, k_factors, input_length=1)(item_input)\n",
    "\n",
    "        # Reshape layers\n",
    "        P = Reshape((k_factors,))(P)\n",
    "        Q = Reshape((k_factors,))(Q)\n",
    "\n",
    "        # Dot product layer\n",
    "        rating = Dot(axes=1)([P, Q])\n",
    "\n",
    "        super(Model, self).__init__(inputs=[user_input, item_input], outputs=rating, **kwargs)\n",
    "\n",
    "    def rate(self, users_id, items_id):\n",
    "        return self.predict([np.array(users_id), np.array(items_id)], verbose=0)"
   ]
  },
  {
   "cell_type": "code",
   "execution_count": 67,
   "metadata": {},
   "outputs": [],
   "source": [
    "K_FACTORS = 100 # The number of dimensional embeddings for movies and users\n",
    "model = Model(max_userid, max_movieid, K_FACTORS)\n",
    "model.compile(loss='mse', optimizer='adamax')"
   ]
  },
  {
   "cell_type": "code",
   "execution_count": 69,
   "metadata": {},
   "outputs": [
    {
     "name": "stdout",
     "output_type": "stream",
     "text": [
      "Epoch 1/40\n",
      "2969/2969 - 1s - loss: 0.7795 - val_loss: 0.8871 - 1s/epoch - 343us/step\n",
      "Epoch 2/40\n",
      "2969/2969 - 1s - loss: 0.7717 - val_loss: 0.8822 - 1s/epoch - 337us/step\n",
      "Epoch 3/40\n",
      "2969/2969 - 1s - loss: 0.7639 - val_loss: 0.8782 - 984ms/epoch - 331us/step\n",
      "Epoch 4/40\n",
      "2969/2969 - 1s - loss: 0.7562 - val_loss: 0.8747 - 985ms/epoch - 332us/step\n",
      "Epoch 5/40\n",
      "2969/2969 - 1s - loss: 0.7485 - val_loss: 0.8722 - 983ms/epoch - 331us/step\n",
      "Epoch 6/40\n",
      "2969/2969 - 1s - loss: 0.7409 - val_loss: 0.8685 - 987ms/epoch - 332us/step\n",
      "Epoch 7/40\n",
      "2969/2969 - 1s - loss: 0.7334 - val_loss: 0.8657 - 986ms/epoch - 332us/step\n",
      "Epoch 8/40\n",
      "2969/2969 - 1s - loss: 0.7258 - val_loss: 0.8631 - 982ms/epoch - 331us/step\n",
      "Epoch 9/40\n",
      "2969/2969 - 1s - loss: 0.7182 - val_loss: 0.8612 - 984ms/epoch - 331us/step\n",
      "Epoch 10/40\n",
      "2969/2969 - 1s - loss: 0.7106 - val_loss: 0.8584 - 984ms/epoch - 331us/step\n",
      "Epoch 11/40\n",
      "2969/2969 - 1s - loss: 0.7030 - val_loss: 0.8551 - 992ms/epoch - 334us/step\n",
      "Epoch 12/40\n",
      "2969/2969 - 1s - loss: 0.6954 - val_loss: 0.8529 - 986ms/epoch - 332us/step\n",
      "Epoch 13/40\n",
      "2969/2969 - 1s - loss: 0.6877 - val_loss: 0.8514 - 983ms/epoch - 331us/step\n",
      "Epoch 14/40\n",
      "2969/2969 - 1s - loss: 0.6801 - val_loss: 0.8495 - 1s/epoch - 341us/step\n",
      "Epoch 15/40\n",
      "2969/2969 - 1s - loss: 0.6725 - val_loss: 0.8465 - 994ms/epoch - 335us/step\n",
      "Epoch 16/40\n",
      "2969/2969 - 1s - loss: 0.6647 - val_loss: 0.8455 - 987ms/epoch - 332us/step\n",
      "Epoch 17/40\n",
      "2969/2969 - 1s - loss: 0.6570 - val_loss: 0.8434 - 986ms/epoch - 332us/step\n",
      "Epoch 18/40\n",
      "2969/2969 - 1s - loss: 0.6492 - val_loss: 0.8414 - 982ms/epoch - 331us/step\n",
      "Epoch 19/40\n",
      "2969/2969 - 1s - loss: 0.6413 - val_loss: 0.8402 - 984ms/epoch - 331us/step\n",
      "Epoch 20/40\n",
      "2969/2969 - 1s - loss: 0.6334 - val_loss: 0.8390 - 986ms/epoch - 332us/step\n",
      "Epoch 21/40\n",
      "2969/2969 - 1s - loss: 0.6255 - val_loss: 0.8385 - 986ms/epoch - 332us/step\n",
      "Epoch 22/40\n",
      "2969/2969 - 1s - loss: 0.6176 - val_loss: 0.8359 - 985ms/epoch - 332us/step\n",
      "Epoch 23/40\n",
      "2969/2969 - 1s - loss: 0.6096 - val_loss: 0.8349 - 985ms/epoch - 332us/step\n",
      "Epoch 24/40\n",
      "2969/2969 - 1s - loss: 0.6017 - val_loss: 0.8340 - 982ms/epoch - 331us/step\n",
      "Epoch 25/40\n",
      "2969/2969 - 1s - loss: 0.5936 - val_loss: 0.8331 - 1s/epoch - 338us/step\n",
      "Epoch 26/40\n",
      "2969/2969 - 1s - loss: 0.5856 - val_loss: 0.8322 - 983ms/epoch - 331us/step\n",
      "Epoch 27/40\n",
      "2969/2969 - 1s - loss: 0.5775 - val_loss: 0.8312 - 988ms/epoch - 333us/step\n",
      "Epoch 28/40\n",
      "2969/2969 - 1s - loss: 0.5695 - val_loss: 0.8301 - 993ms/epoch - 334us/step\n",
      "Epoch 29/40\n",
      "2969/2969 - 1s - loss: 0.5613 - val_loss: 0.8300 - 994ms/epoch - 335us/step\n",
      "Epoch 30/40\n",
      "2969/2969 - 1s - loss: 0.5532 - val_loss: 0.8285 - 982ms/epoch - 331us/step\n",
      "Epoch 31/40\n",
      "2969/2969 - 1s - loss: 0.5452 - val_loss: 0.8292 - 979ms/epoch - 330us/step\n",
      "Epoch 32/40\n",
      "2969/2969 - 1s - loss: 0.5370 - val_loss: 0.8286 - 998ms/epoch - 336us/step\n"
     ]
    }
   ],
   "source": [
    "# Callbacks monitor the validation loss\n",
    "# Save the model weights each time the validation loss has improved\n",
    "callbacks = [EarlyStopping('val_loss', patience=2), \n",
    "             ModelCheckpoint('weights.h5', save_best_only=True)]\n",
    "\n",
    "# Use 30 epochs, 90% training data, 10% validation data \n",
    "history = model.fit([Users, Movies], Ratings, epochs=40, validation_split=.05, verbose=2, callbacks=callbacks)"
   ]
  },
  {
   "cell_type": "code",
   "execution_count": 70,
   "metadata": {},
   "outputs": [
    {
     "name": "stdout",
     "output_type": "stream",
     "text": [
      "Minimum RMSE at epoch 30 = 0.9102\n"
     ]
    }
   ],
   "source": [
    "import math\n",
    "\n",
    "min_val_loss, idx = min((val, idx) for (idx, val) in enumerate(history.history['val_loss']))\n",
    "print('Minimum RMSE at epoch', '{:d}'.format(idx+1), '=', '{:.4f}'.format(math.sqrt(min_val_loss)))"
   ]
  },
  {
   "cell_type": "markdown",
   "metadata": {},
   "source": [
    "## Predict the ratings"
   ]
  },
  {
   "cell_type": "code",
   "execution_count": 71,
   "metadata": {},
   "outputs": [],
   "source": [
    "trained_model = Model(max_userid, max_movieid, K_FACTORS)\n",
    "trained_model.load_weights('weights.h5')"
   ]
  },
  {
   "cell_type": "code",
   "execution_count": 72,
   "metadata": {},
   "outputs": [],
   "source": [
    "def predict_rating(user_id, movie_id):\n",
    "    return trained_model.rate(user_id - 1, movie_id - 1)"
   ]
  },
  {
   "cell_type": "code",
   "execution_count": 73,
   "metadata": {},
   "outputs": [
    {
     "name": "stderr",
     "output_type": "stream",
     "text": [
      "/var/folders/lr/pjyjl4js0h377jr3sw56ky000000gn/T/ipykernel_69622/450239202.py:4: SettingWithCopyWarning: \n",
      "A value is trying to be set on a copy of a slice from a DataFrame.\n",
      "Try using .loc[row_indexer,col_indexer] = value instead\n",
      "\n",
      "See the caveats in the documentation: https://pandas.pydata.org/pandas-docs/stable/user_guide/indexing.html#returning-a-view-versus-a-copy\n",
      "  user_ratings['prediction'] = predict_rating(user_ids, item_ids)\n"
     ]
    },
    {
     "data": {
      "text/html": [
       "<div>\n",
       "<style scoped>\n",
       "    .dataframe tbody tr th:only-of-type {\n",
       "        vertical-align: middle;\n",
       "    }\n",
       "\n",
       "    .dataframe tbody tr th {\n",
       "        vertical-align: top;\n",
       "    }\n",
       "\n",
       "    .dataframe thead th {\n",
       "        text-align: right;\n",
       "    }\n",
       "</style>\n",
       "<table border=\"1\" class=\"dataframe\">\n",
       "  <thead>\n",
       "    <tr style=\"text-align: right;\">\n",
       "      <th></th>\n",
       "      <th>user_id</th>\n",
       "      <th>item_id</th>\n",
       "      <th>rating</th>\n",
       "      <th>prediction</th>\n",
       "    </tr>\n",
       "  </thead>\n",
       "  <tbody>\n",
       "    <tr>\n",
       "      <th>28336</th>\n",
       "      <td>64</td>\n",
       "      <td>183</td>\n",
       "      <td>5</td>\n",
       "      <td>4.254299</td>\n",
       "    </tr>\n",
       "    <tr>\n",
       "      <th>16000</th>\n",
       "      <td>213</td>\n",
       "      <td>121</td>\n",
       "      <td>5</td>\n",
       "      <td>4.066990</td>\n",
       "    </tr>\n",
       "    <tr>\n",
       "      <th>28426</th>\n",
       "      <td>286</td>\n",
       "      <td>707</td>\n",
       "      <td>5</td>\n",
       "      <td>4.633981</td>\n",
       "    </tr>\n",
       "    <tr>\n",
       "      <th>38655</th>\n",
       "      <td>94</td>\n",
       "      <td>518</td>\n",
       "      <td>5</td>\n",
       "      <td>4.522512</td>\n",
       "    </tr>\n",
       "    <tr>\n",
       "      <th>16022</th>\n",
       "      <td>108</td>\n",
       "      <td>10</td>\n",
       "      <td>5</td>\n",
       "      <td>4.112147</td>\n",
       "    </tr>\n",
       "    <tr>\n",
       "      <th>...</th>\n",
       "      <td>...</td>\n",
       "      <td>...</td>\n",
       "      <td>...</td>\n",
       "      <td>...</td>\n",
       "    </tr>\n",
       "    <tr>\n",
       "      <th>27329</th>\n",
       "      <td>13</td>\n",
       "      <td>401</td>\n",
       "      <td>1</td>\n",
       "      <td>1.897017</td>\n",
       "    </tr>\n",
       "    <tr>\n",
       "      <th>27316</th>\n",
       "      <td>405</td>\n",
       "      <td>788</td>\n",
       "      <td>1</td>\n",
       "      <td>1.149107</td>\n",
       "    </tr>\n",
       "    <tr>\n",
       "      <th>27307</th>\n",
       "      <td>279</td>\n",
       "      <td>1266</td>\n",
       "      <td>1</td>\n",
       "      <td>2.987078</td>\n",
       "    </tr>\n",
       "    <tr>\n",
       "      <th>85465</th>\n",
       "      <td>68</td>\n",
       "      <td>926</td>\n",
       "      <td>1</td>\n",
       "      <td>1.298860</td>\n",
       "    </tr>\n",
       "    <tr>\n",
       "      <th>32874</th>\n",
       "      <td>246</td>\n",
       "      <td>981</td>\n",
       "      <td>1</td>\n",
       "      <td>1.552977</td>\n",
       "    </tr>\n",
       "  </tbody>\n",
       "</table>\n",
       "<p>100000 rows × 4 columns</p>\n",
       "</div>"
      ],
      "text/plain": [
       "       user_id  item_id  rating  prediction\n",
       "28336       64      183       5    4.254299\n",
       "16000      213      121       5    4.066990\n",
       "28426      286      707       5    4.633981\n",
       "38655       94      518       5    4.522512\n",
       "16022      108       10       5    4.112147\n",
       "...        ...      ...     ...         ...\n",
       "27329       13      401       1    1.897017\n",
       "27316      405      788       1    1.149107\n",
       "27307      279     1266       1    2.987078\n",
       "85465       68      926       1    1.298860\n",
       "32874      246      981       1    1.552977\n",
       "\n",
       "[100000 rows x 4 columns]"
      ]
     },
     "execution_count": 73,
     "metadata": {},
     "output_type": "execute_result"
    }
   ],
   "source": [
    "user_ratings = data[['user_id', 'item_id', 'rating']]\n",
    "user_ids = data['user_id']\n",
    "item_ids = data['item_id']\n",
    "user_ratings['prediction'] = predict_rating(user_ids, item_ids)\n",
    "user_ratings.sort_values(by='rating', \n",
    "                         ascending=False)"
   ]
  },
  {
   "cell_type": "code",
   "execution_count": 75,
   "metadata": {},
   "outputs": [
    {
     "name": "stderr",
     "output_type": "stream",
     "text": [
      "/var/folders/lr/pjyjl4js0h377jr3sw56ky000000gn/T/ipykernel_69622/644084296.py:1: SettingWithCopyWarning: \n",
      "A value is trying to be set on a copy of a slice from a DataFrame.\n",
      "Try using .loc[row_indexer,col_indexer] = value instead\n",
      "\n",
      "See the caveats in the documentation: https://pandas.pydata.org/pandas-docs/stable/user_guide/indexing.html#returning-a-view-versus-a-copy\n",
      "  user_ratings['prediction_rounded'] = user_ratings['prediction'].round().astype(int)\n"
     ]
    },
    {
     "data": {
      "text/html": [
       "<div>\n",
       "<style scoped>\n",
       "    .dataframe tbody tr th:only-of-type {\n",
       "        vertical-align: middle;\n",
       "    }\n",
       "\n",
       "    .dataframe tbody tr th {\n",
       "        vertical-align: top;\n",
       "    }\n",
       "\n",
       "    .dataframe thead th {\n",
       "        text-align: right;\n",
       "    }\n",
       "</style>\n",
       "<table border=\"1\" class=\"dataframe\">\n",
       "  <thead>\n",
       "    <tr style=\"text-align: right;\">\n",
       "      <th></th>\n",
       "      <th>user_id</th>\n",
       "      <th>item_id</th>\n",
       "      <th>rating</th>\n",
       "      <th>prediction</th>\n",
       "      <th>prediction_rounded</th>\n",
       "    </tr>\n",
       "  </thead>\n",
       "  <tbody>\n",
       "    <tr>\n",
       "      <th>0</th>\n",
       "      <td>196</td>\n",
       "      <td>242</td>\n",
       "      <td>3</td>\n",
       "      <td>3.980704</td>\n",
       "      <td>4</td>\n",
       "    </tr>\n",
       "    <tr>\n",
       "      <th>1</th>\n",
       "      <td>186</td>\n",
       "      <td>302</td>\n",
       "      <td>3</td>\n",
       "      <td>3.528082</td>\n",
       "      <td>4</td>\n",
       "    </tr>\n",
       "    <tr>\n",
       "      <th>2</th>\n",
       "      <td>22</td>\n",
       "      <td>377</td>\n",
       "      <td>1</td>\n",
       "      <td>1.730367</td>\n",
       "      <td>2</td>\n",
       "    </tr>\n",
       "    <tr>\n",
       "      <th>3</th>\n",
       "      <td>244</td>\n",
       "      <td>51</td>\n",
       "      <td>2</td>\n",
       "      <td>3.465878</td>\n",
       "      <td>3</td>\n",
       "    </tr>\n",
       "    <tr>\n",
       "      <th>4</th>\n",
       "      <td>166</td>\n",
       "      <td>346</td>\n",
       "      <td>1</td>\n",
       "      <td>3.234185</td>\n",
       "      <td>3</td>\n",
       "    </tr>\n",
       "    <tr>\n",
       "      <th>...</th>\n",
       "      <td>...</td>\n",
       "      <td>...</td>\n",
       "      <td>...</td>\n",
       "      <td>...</td>\n",
       "      <td>...</td>\n",
       "    </tr>\n",
       "    <tr>\n",
       "      <th>99995</th>\n",
       "      <td>880</td>\n",
       "      <td>476</td>\n",
       "      <td>3</td>\n",
       "      <td>3.085451</td>\n",
       "      <td>3</td>\n",
       "    </tr>\n",
       "    <tr>\n",
       "      <th>99996</th>\n",
       "      <td>716</td>\n",
       "      <td>204</td>\n",
       "      <td>5</td>\n",
       "      <td>4.278119</td>\n",
       "      <td>4</td>\n",
       "    </tr>\n",
       "    <tr>\n",
       "      <th>99997</th>\n",
       "      <td>276</td>\n",
       "      <td>1090</td>\n",
       "      <td>1</td>\n",
       "      <td>1.817253</td>\n",
       "      <td>2</td>\n",
       "    </tr>\n",
       "    <tr>\n",
       "      <th>99998</th>\n",
       "      <td>13</td>\n",
       "      <td>225</td>\n",
       "      <td>2</td>\n",
       "      <td>2.290304</td>\n",
       "      <td>2</td>\n",
       "    </tr>\n",
       "    <tr>\n",
       "      <th>99999</th>\n",
       "      <td>12</td>\n",
       "      <td>203</td>\n",
       "      <td>3</td>\n",
       "      <td>4.083733</td>\n",
       "      <td>4</td>\n",
       "    </tr>\n",
       "  </tbody>\n",
       "</table>\n",
       "<p>100000 rows × 5 columns</p>\n",
       "</div>"
      ],
      "text/plain": [
       "       user_id  item_id  rating  prediction  prediction_rounded\n",
       "0          196      242       3    3.980704                   4\n",
       "1          186      302       3    3.528082                   4\n",
       "2           22      377       1    1.730367                   2\n",
       "3          244       51       2    3.465878                   3\n",
       "4          166      346       1    3.234185                   3\n",
       "...        ...      ...     ...         ...                 ...\n",
       "99995      880      476       3    3.085451                   3\n",
       "99996      716      204       5    4.278119                   4\n",
       "99997      276     1090       1    1.817253                   2\n",
       "99998       13      225       2    2.290304                   2\n",
       "99999       12      203       3    4.083733                   4\n",
       "\n",
       "[100000 rows x 5 columns]"
      ]
     },
     "execution_count": 75,
     "metadata": {},
     "output_type": "execute_result"
    }
   ],
   "source": [
    "user_ratings['prediction_rounded'] = user_ratings['prediction'].round().astype(int)\n",
    "user_ratings"
   ]
  },
  {
   "cell_type": "code",
   "execution_count": 77,
   "metadata": {},
   "outputs": [
    {
     "data": {
      "text/plain": [
       "0.52603"
      ]
     },
     "execution_count": 77,
     "metadata": {},
     "output_type": "execute_result"
    }
   ],
   "source": [
    "(user_ratings['prediction_rounded'] == user_ratings['rating']).sum() / user_ratings.shape[0]"
   ]
  }
 ],
 "metadata": {
  "kernelspec": {
   "display_name": "Python 3 (ipykernel)",
   "language": "python",
   "name": "python3"
  },
  "language_info": {
   "codemirror_mode": {
    "name": "ipython",
    "version": 3
   },
   "file_extension": ".py",
   "mimetype": "text/x-python",
   "name": "python",
   "nbconvert_exporter": "python",
   "pygments_lexer": "ipython3",
   "version": "3.10.7"
  }
 },
 "nbformat": 4,
 "nbformat_minor": 2
}
