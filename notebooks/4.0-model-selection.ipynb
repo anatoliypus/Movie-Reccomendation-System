{
 "cells": [
  {
   "cell_type": "markdown",
   "metadata": {},
   "source": [
    "# Model selection"
   ]
  },
  {
   "cell_type": "markdown",
   "metadata": {},
   "source": [
    "In this notebook I will elaborate on the hypotezis that it is enough to train a simple NN or linear classifier to predict rankings of films. I will try to select an appropriate model and then fine-tune it."
   ]
  },
  {
   "cell_type": "code",
   "execution_count": 2,
   "metadata": {},
   "outputs": [],
   "source": [
    "import pandas as pd\n",
    "import sys\n",
    "import os\n",
    "sys.path.append(\"../\")\n",
    "from definitions import ROOT_DIR\n",
    "import numpy as np"
   ]
  },
  {
   "cell_type": "markdown",
   "metadata": {},
   "source": [
    "## Data splitting"
   ]
  },
  {
   "cell_type": "code",
   "execution_count": 3,
   "metadata": {},
   "outputs": [],
   "source": [
    "data_folder = os.path.join(ROOT_DIR, 'data/interim')"
   ]
  },
  {
   "cell_type": "code",
   "execution_count": 4,
   "metadata": {},
   "outputs": [],
   "source": [
    "data = pd.read_csv(os.path.join(data_folder, 'all.csv'))"
   ]
  },
  {
   "cell_type": "code",
   "execution_count": 5,
   "metadata": {},
   "outputs": [
    {
     "data": {
      "text/html": [
       "<div>\n",
       "<style scoped>\n",
       "    .dataframe tbody tr th:only-of-type {\n",
       "        vertical-align: middle;\n",
       "    }\n",
       "\n",
       "    .dataframe tbody tr th {\n",
       "        vertical-align: top;\n",
       "    }\n",
       "\n",
       "    .dataframe thead th {\n",
       "        text-align: right;\n",
       "    }\n",
       "</style>\n",
       "<table border=\"1\" class=\"dataframe\">\n",
       "  <thead>\n",
       "    <tr style=\"text-align: right;\">\n",
       "      <th></th>\n",
       "      <th>rating</th>\n",
       "      <th>release_date</th>\n",
       "      <th>unknown</th>\n",
       "      <th>Action</th>\n",
       "      <th>Adventure</th>\n",
       "      <th>Animation</th>\n",
       "      <th>Children's</th>\n",
       "      <th>Comedy</th>\n",
       "      <th>Crime</th>\n",
       "      <th>Documentary</th>\n",
       "      <th>...</th>\n",
       "      <th>Washington</th>\n",
       "      <th>West Virginia</th>\n",
       "      <th>Wisconsin</th>\n",
       "      <th>Wyoming</th>\n",
       "      <th>0-18</th>\n",
       "      <th>18-27</th>\n",
       "      <th>27-35</th>\n",
       "      <th>35-42</th>\n",
       "      <th>42-55</th>\n",
       "      <th>55+</th>\n",
       "    </tr>\n",
       "  </thead>\n",
       "  <tbody>\n",
       "    <tr>\n",
       "      <th>0</th>\n",
       "      <td>3</td>\n",
       "      <td>0.534335</td>\n",
       "      <td>0</td>\n",
       "      <td>0</td>\n",
       "      <td>0</td>\n",
       "      <td>0</td>\n",
       "      <td>0</td>\n",
       "      <td>1</td>\n",
       "      <td>0</td>\n",
       "      <td>0</td>\n",
       "      <td>...</td>\n",
       "      <td>0</td>\n",
       "      <td>0</td>\n",
       "      <td>0</td>\n",
       "      <td>0</td>\n",
       "      <td>0</td>\n",
       "      <td>0</td>\n",
       "      <td>0</td>\n",
       "      <td>0</td>\n",
       "      <td>1</td>\n",
       "      <td>0</td>\n",
       "    </tr>\n",
       "    <tr>\n",
       "      <th>1</th>\n",
       "      <td>3</td>\n",
       "      <td>0.534335</td>\n",
       "      <td>0</td>\n",
       "      <td>0</td>\n",
       "      <td>0</td>\n",
       "      <td>0</td>\n",
       "      <td>0</td>\n",
       "      <td>0</td>\n",
       "      <td>1</td>\n",
       "      <td>0</td>\n",
       "      <td>...</td>\n",
       "      <td>0</td>\n",
       "      <td>0</td>\n",
       "      <td>0</td>\n",
       "      <td>0</td>\n",
       "      <td>0</td>\n",
       "      <td>0</td>\n",
       "      <td>0</td>\n",
       "      <td>1</td>\n",
       "      <td>0</td>\n",
       "      <td>0</td>\n",
       "    </tr>\n",
       "  </tbody>\n",
       "</table>\n",
       "<p>2 rows × 104 columns</p>\n",
       "</div>"
      ],
      "text/plain": [
       "   rating  release_date  unknown  Action  Adventure  Animation  Children's  \\\n",
       "0       3      0.534335        0       0          0          0           0   \n",
       "1       3      0.534335        0       0          0          0           0   \n",
       "\n",
       "   Comedy  Crime  Documentary  ...  Washington  West Virginia  Wisconsin  \\\n",
       "0       1      0            0  ...           0              0          0   \n",
       "1       0      1            0  ...           0              0          0   \n",
       "\n",
       "   Wyoming  0-18  18-27  27-35  35-42  42-55  55+  \n",
       "0        0     0      0      0      0      1    0  \n",
       "1        0     0      0      0      1      0    0  \n",
       "\n",
       "[2 rows x 104 columns]"
      ]
     },
     "execution_count": 5,
     "metadata": {},
     "output_type": "execute_result"
    }
   ],
   "source": [
    "data.head(2)"
   ]
  },
  {
   "cell_type": "code",
   "execution_count": 6,
   "metadata": {},
   "outputs": [
    {
     "data": {
      "text/plain": [
       "((100000, 103), (100000,))"
      ]
     },
     "execution_count": 6,
     "metadata": {},
     "output_type": "execute_result"
    }
   ],
   "source": [
    "y = data['rating'].to_numpy()\n",
    "X = data.drop('rating', axis=1, errors='ignore').to_numpy()\n",
    "X.shape, y.shape"
   ]
  },
  {
   "cell_type": "code",
   "execution_count": 7,
   "metadata": {},
   "outputs": [],
   "source": [
    "from sklearn.model_selection import train_test_split\n",
    "\n",
    "X_train, X_test, y_train, y_test = train_test_split(X, y, test_size=0.2, random_state=42)"
   ]
  },
  {
   "cell_type": "markdown",
   "metadata": {},
   "source": [
    "## Linear classifier"
   ]
  },
  {
   "cell_type": "code",
   "execution_count": 13,
   "metadata": {},
   "outputs": [],
   "source": [
    "from sklearn.linear_model import LinearRegression\n",
    "from sklearn.metrics import "
   ]
  },
  {
   "cell_type": "code",
   "execution_count": 16,
   "metadata": {},
   "outputs": [
    {
     "name": "stdout",
     "output_type": "stream",
     "text": [
      "Train RMSE: 1.0752317794463297\n",
      "Test RMSE: 1.0770118583133976\n"
     ]
    }
   ],
   "source": [
    "model = LinearRegression(n_jobs=-1)\n",
    "model.fit(X_train, y_train)\n",
    "print(\"Train RMSE:\", mean_squared_error(y_train, model.predict(X_train), squared=False))\n",
    "print(\"Test RMSE:\", mean_squared_error(y_test, model.predict(X_test), squared=False))"
   ]
  },
  {
   "cell_type": "markdown",
   "metadata": {},
   "source": [
    "## Neural network"
   ]
  },
  {
   "cell_type": "code",
   "execution_count": 17,
   "metadata": {},
   "outputs": [],
   "source": [
    "import torch\n",
    "from torch import nn\n",
    "from torch.utils.data import TensorDataset, DataLoader\n",
    "from torch import optim"
   ]
  },
  {
   "cell_type": "code",
   "execution_count": 24,
   "metadata": {},
   "outputs": [],
   "source": [
    "X_train_tensor = torch.FloatTensor(X_train)\n",
    "y_train_tensor = torch.FloatTensor(y_train) - 1\n",
    "X_test_tensor = torch.FloatTensor(X_test)\n",
    "y_test_tensor = torch.FloatTensor(y_test) - 1"
   ]
  },
  {
   "cell_type": "code",
   "execution_count": 37,
   "metadata": {},
   "outputs": [],
   "source": [
    "train_dataset = TensorDataset(X_train_tensor, y_train_tensor)\n",
    "test_dataset = TensorDataset(X_test_tensor, y_test_tensor)\n",
    "\n",
    "batch_size = 32\n",
    "train_loader = DataLoader(train_dataset, batch_size=batch_size, shuffle=True)\n",
    "test_loader = DataLoader(test_dataset, batch_size=batch_size, shuffle=False)"
   ]
  },
  {
   "cell_type": "code",
   "execution_count": 55,
   "metadata": {},
   "outputs": [],
   "source": [
    "class NeuralNet(nn.Module):\n",
    "    def __init__(self, input_size, hidden_size, output_size):\n",
    "        super(NeuralNet, self).__init__()\n",
    "        self.fc1 = nn.Linear(input_size, hidden_size)\n",
    "        self.fc2 = nn.Linear(hidden_size, hidden_size * 2)\n",
    "        self.fc3 = nn.Linear(hidden_size * 2, output_size)\n",
    "        self.relu = nn.ReLU()\n",
    "\n",
    "    def forward(self, x):\n",
    "        x = self.fc1(x)\n",
    "        x = self.relu(x)\n",
    "        x = self.fc2(x)\n",
    "        x = self.relu(x)\n",
    "        x = self.fc3(x)\n",
    "        return x"
   ]
  },
  {
   "cell_type": "code",
   "execution_count": 64,
   "metadata": {},
   "outputs": [],
   "source": [
    "input_size = 103\n",
    "hidden_size = 256\n",
    "output_size = 1\n",
    "model = NeuralNet(input_size, hidden_size, output_size)"
   ]
  },
  {
   "cell_type": "code",
   "execution_count": 65,
   "metadata": {},
   "outputs": [],
   "source": [
    "criterion = nn.MSELoss()\n",
    "optimizer = optim.Adam(model.parameters(), lr=0.0005)\n",
    "\n",
    "train_losses = []\n",
    "test_losses = []"
   ]
  },
  {
   "cell_type": "code",
   "execution_count": 66,
   "metadata": {},
   "outputs": [
    {
     "name": "stdout",
     "output_type": "stream",
     "text": [
      "Epoch 1/40\t train loss: 1.2439557705640794\t test loss: 1.1577606256484985\n",
      "Epoch 2/40\t train loss: 1.1733106945753098\t test loss: 1.1420368980407716\n",
      "Epoch 3/40\t train loss: 1.148613222181797\t test loss: 1.1325244441986084\n",
      "Epoch 4/40\t train loss: 1.13296238322258\t test loss: 1.119676858997345\n",
      "Epoch 5/40\t train loss: 1.1207789078950883\t test loss: 1.1228706407546998\n",
      "Epoch 6/40\t train loss: 1.1083762514829636\t test loss: 1.1028995717048644\n",
      "Epoch 7/40\t train loss: 1.0943381805181502\t test loss: 1.0931932319641113\n",
      "Epoch 8/40\t train loss: 1.0835800209164619\t test loss: 1.0965643734931947\n",
      "Epoch 9/40\t train loss: 1.0738878680586814\t test loss: 1.1001841321468353\n",
      "Epoch 10/40\t train loss: 1.066188222670555\t test loss: 1.0759291463851928\n",
      "Epoch 11/40\t train loss: 1.0574532034993172\t test loss: 1.0707025379657746\n",
      "Epoch 12/40\t train loss: 1.0532553099751472\t test loss: 1.073729895067215\n",
      "Epoch 13/40\t train loss: 1.0496060789585113\t test loss: 1.0949670374393463\n",
      "Epoch 14/40\t train loss: 1.0445970900893211\t test loss: 1.0658204888343812\n",
      "Epoch 15/40\t train loss: 1.0387962593317033\t test loss: 1.0663561419963836\n",
      "Epoch 16/40\t train loss: 1.0349989247083664\t test loss: 1.0604031109809875\n",
      "Epoch 17/40\t train loss: 1.0301064146637917\t test loss: 1.0576853364944458\n",
      "Epoch 18/40\t train loss: 1.0248995904922484\t test loss: 1.0592187876224517\n",
      "Epoch 19/40\t train loss: 1.0219826193213464\t test loss: 1.065692560529709\n",
      "Epoch 20/40\t train loss: 1.0172699383616448\t test loss: 1.0603255096435547\n",
      "Epoch 21/40\t train loss: 1.014641200709343\t test loss: 1.0495258607387543\n",
      "Epoch 22/40\t train loss: 1.010893212223053\t test loss: 1.0930782185554504\n",
      "Epoch 23/40\t train loss: 1.010378258228302\t test loss: 1.0494438257217407\n",
      "Epoch 24/40\t train loss: 1.0049812697291374\t test loss: 1.074842494249344\n",
      "Epoch 25/40\t train loss: 1.0008234290242195\t test loss: 1.070245648097992\n",
      "Epoch 26/40\t train loss: 1.001055173766613\t test loss: 1.0444059621334076\n",
      "Epoch 27/40\t train loss: 0.996794604742527\t test loss: 1.0431132726669312\n",
      "Epoch 28/40\t train loss: 0.9936045293569565\t test loss: 1.0471042295932769\n",
      "Epoch 29/40\t train loss: 0.9909103541016578\t test loss: 1.0580128574371337\n",
      "Epoch 30/40\t train loss: 0.9876053877949714\t test loss: 1.041010331439972\n",
      "Epoch 31/40\t train loss: 0.9852821430444717\t test loss: 1.0416227892875671\n",
      "Epoch 32/40\t train loss: 0.9845127263069153\t test loss: 1.0411390717983247\n",
      "Epoch 33/40\t train loss: 0.9795507287621498\t test loss: 1.0477121817588806\n",
      "Epoch 34/40\t train loss: 0.9782675057053566\t test loss: 1.0429345145702362\n",
      "Epoch 35/40\t train loss: 0.9741971033453941\t test loss: 1.074957702445984\n",
      "Epoch 36/40\t train loss: 0.9722341481089593\t test loss: 1.0392627808570862\n",
      "Epoch 37/40\t train loss: 0.9712452266573905\t test loss: 1.062607089138031\n",
      "Epoch 38/40\t train loss: 0.9683480816245079\t test loss: 1.042714354467392\n",
      "Epoch 39/40\t train loss: 0.9667494658350945\t test loss: 1.0383723371028901\n",
      "Epoch 40/40\t train loss: 0.9622803255319595\t test loss: 1.0548797881126404\n"
     ]
    }
   ],
   "source": [
    "num_epochs = 40\n",
    "\n",
    "for epoch in range(num_epochs):\n",
    "    model.train()\n",
    "    running_loss = 0.0\n",
    "\n",
    "    for inputs, labels in train_loader:\n",
    "        optimizer.zero_grad()\n",
    "        outputs = model(inputs).view(-1)\n",
    "        loss = criterion(outputs, labels)\n",
    "        loss.backward()\n",
    "        optimizer.step()\n",
    "\n",
    "        running_loss += loss.item()\n",
    "    \n",
    "    model.eval()\n",
    "    test_running_loss = 0.0\n",
    "\n",
    "    with torch.no_grad():\n",
    "        for inputs, labels in test_loader:\n",
    "            outputs = model(inputs)\n",
    "            _, predicted = torch.max(outputs.data, 1)\n",
    "            outputs = model(inputs).view(-1)\n",
    "            loss = criterion(outputs, labels)\n",
    "            test_running_loss += loss.item()\n",
    "\n",
    "    train_loss = running_loss/len(train_loader)\n",
    "    test_loss = test_running_loss/len(test_loader)\n",
    "    train_losses.append(train_loss)\n",
    "    test_losses.append(test_loss)\n",
    "    print(f\"Epoch {epoch+1}/{num_epochs}\\t train loss: {train_loss}\\t test loss: {test_loss}\")"
   ]
  },
  {
   "cell_type": "code",
   "execution_count": 67,
   "metadata": {},
   "outputs": [
    {
     "data": {
      "image/png": "[encoded data removed]",
      "text/plain": [
       "<Figure size 640x480 with 1 Axes>"
      ]
     },
     "metadata": {},
     "output_type": "display_data"
    }
   ],
   "source": [
    "import matplotlib.pyplot as plt\n",
    "\n",
    "plt.plot(train_losses, label='Train loss', color='green')\n",
    "plt.plot(test_losses, label='Test loss', color='red')\n",
    "plt.legend()\n",
    "plt.show()"
   ]
  },
  {
   "cell_type": "code",
   "execution_count": 68,
   "metadata": {},
   "outputs": [
    {
     "name": "stdout",
     "output_type": "stream",
     "text": [
      "Test Accuracy: 0.375\n"
     ]
    }
   ],
   "source": [
    "# Evaluation on the test set\n",
    "model.eval()\n",
    "correct = 0\n",
    "total = 0\n",
    "\n",
    "with torch.no_grad():\n",
    "    for inputs, labels in test_loader:\n",
    "        outputs = torch.round(model(inputs)).view(-1)\n",
    "        total += labels.size(0)\n",
    "        correct += (outputs == labels).sum().item()\n",
    "\n",
    "accuracy = correct / total\n",
    "print(f\"Test Accuracy: {accuracy}\")"
   ]
  },
  {
   "cell_type": "markdown",
   "metadata": {},
   "source": [
    "## Analyzing results"
   ]
  },
  {
   "cell_type": "markdown",
   "metadata": {},
   "source": [
    "As we can see, this straightforward approach does not perform well (I have tried many NN architectures, regularizations, etc). We can clearly see that model can find train-specific patterns, but this patterns are not common, so the model just overfits. I believe this is because these models do not analyze data about a certain user or film, while it is essential to analyze each particular user info and ratings separately."
   ]
  },
  {
   "cell_type": "markdown",
   "metadata": {},
   "source": [
    "**Now I will try a different approach** to solve this task. I will engineer data again in '3.1-data-engineering.ipynb', train another model in '4.1-model-selection' and etc."
   ]
  }
 ],
 "metadata": {
  "kernelspec": {
   "display_name": "Python 3 (ipykernel)",
   "language": "python",
   "name": "python3"
  }
 },
 "nbformat": 4,
 "nbformat_minor": 2
}
