{
 "cells": [
  {
   "cell_type": "markdown",
   "metadata": {},
   "source": [
    "# Model selection"
   ]
  },
  {
   "cell_type": "markdown",
   "metadata": {},
   "source": [
    "In this notebook I will elaborate on the hypotezis that it is enough to train a simple NN or linear classifier to predict rankings of films. I will try to select an appropriate model and then fine-tune it."
   ]
  },
  {
   "cell_type": "code",
   "execution_count": 1,
   "metadata": {},
   "outputs": [],
   "source": [
    "import pandas as pd\n",
    "import sys\n",
    "import os\n",
    "sys.path.append(\"../\")\n",
    "from definitions import ROOT_DIR\n",
    "import numpy as np"
   ]
  },
  {
   "cell_type": "markdown",
   "metadata": {},
   "source": [
    "## Data splitting"
   ]
  },
  {
   "cell_type": "code",
   "execution_count": 15,
   "metadata": {},
   "outputs": [],
   "source": [
    "data_folder = os.path.join(ROOT_DIR, 'data/interim')\n",
    "figures_folder = os.path.join(ROOT_DIR, 'reports/figures')"
   ]
  },
  {
   "cell_type": "code",
   "execution_count": 3,
   "metadata": {},
   "outputs": [],
   "source": [
    "data = pd.read_csv(os.path.join(data_folder, 'all.csv'))"
   ]
  },
  {
   "cell_type": "code",
   "execution_count": 4,
   "metadata": {},
   "outputs": [
    {
     "data": {
      "text/html": [
       "<div>\n",
       "<style scoped>\n",
       "    .dataframe tbody tr th:only-of-type {\n",
       "        vertical-align: middle;\n",
       "    }\n",
       "\n",
       "    .dataframe tbody tr th {\n",
       "        vertical-align: top;\n",
       "    }\n",
       "\n",
       "    .dataframe thead th {\n",
       "        text-align: right;\n",
       "    }\n",
       "</style>\n",
       "<table border=\"1\" class=\"dataframe\">\n",
       "  <thead>\n",
       "    <tr style=\"text-align: right;\">\n",
       "      <th></th>\n",
       "      <th>rating</th>\n",
       "      <th>release_date</th>\n",
       "      <th>unknown</th>\n",
       "      <th>Action</th>\n",
       "      <th>Adventure</th>\n",
       "      <th>Animation</th>\n",
       "      <th>Children's</th>\n",
       "      <th>Comedy</th>\n",
       "      <th>Crime</th>\n",
       "      <th>Documentary</th>\n",
       "      <th>...</th>\n",
       "      <th>Washington</th>\n",
       "      <th>West Virginia</th>\n",
       "      <th>Wisconsin</th>\n",
       "      <th>Wyoming</th>\n",
       "      <th>0-18</th>\n",
       "      <th>18-27</th>\n",
       "      <th>27-35</th>\n",
       "      <th>35-42</th>\n",
       "      <th>42-55</th>\n",
       "      <th>55+</th>\n",
       "    </tr>\n",
       "  </thead>\n",
       "  <tbody>\n",
       "    <tr>\n",
       "      <th>0</th>\n",
       "      <td>3</td>\n",
       "      <td>0.534335</td>\n",
       "      <td>0</td>\n",
       "      <td>0</td>\n",
       "      <td>0</td>\n",
       "      <td>0</td>\n",
       "      <td>0</td>\n",
       "      <td>1</td>\n",
       "      <td>0</td>\n",
       "      <td>0</td>\n",
       "      <td>...</td>\n",
       "      <td>0</td>\n",
       "      <td>0</td>\n",
       "      <td>0</td>\n",
       "      <td>0</td>\n",
       "      <td>0</td>\n",
       "      <td>0</td>\n",
       "      <td>0</td>\n",
       "      <td>0</td>\n",
       "      <td>1</td>\n",
       "      <td>0</td>\n",
       "    </tr>\n",
       "    <tr>\n",
       "      <th>1</th>\n",
       "      <td>3</td>\n",
       "      <td>0.534335</td>\n",
       "      <td>0</td>\n",
       "      <td>0</td>\n",
       "      <td>0</td>\n",
       "      <td>0</td>\n",
       "      <td>0</td>\n",
       "      <td>0</td>\n",
       "      <td>1</td>\n",
       "      <td>0</td>\n",
       "      <td>...</td>\n",
       "      <td>0</td>\n",
       "      <td>0</td>\n",
       "      <td>0</td>\n",
       "      <td>0</td>\n",
       "      <td>0</td>\n",
       "      <td>0</td>\n",
       "      <td>0</td>\n",
       "      <td>1</td>\n",
       "      <td>0</td>\n",
       "      <td>0</td>\n",
       "    </tr>\n",
       "  </tbody>\n",
       "</table>\n",
       "<p>2 rows × 104 columns</p>\n",
       "</div>"
      ],
      "text/plain": [
       "   rating  release_date  unknown  Action  Adventure  Animation  Children's  \\\n",
       "0       3      0.534335        0       0          0          0           0   \n",
       "1       3      0.534335        0       0          0          0           0   \n",
       "\n",
       "   Comedy  Crime  Documentary  ...  Washington  West Virginia  Wisconsin  \\\n",
       "0       1      0            0  ...           0              0          0   \n",
       "1       0      1            0  ...           0              0          0   \n",
       "\n",
       "   Wyoming  0-18  18-27  27-35  35-42  42-55  55+  \n",
       "0        0     0      0      0      0      1    0  \n",
       "1        0     0      0      0      1      0    0  \n",
       "\n",
       "[2 rows x 104 columns]"
      ]
     },
     "execution_count": 4,
     "metadata": {},
     "output_type": "execute_result"
    }
   ],
   "source": [
    "data.head(2)"
   ]
  },
  {
   "cell_type": "code",
   "execution_count": 5,
   "metadata": {},
   "outputs": [
    {
     "data": {
      "text/plain": [
       "((100000, 103), (100000,))"
      ]
     },
     "execution_count": 5,
     "metadata": {},
     "output_type": "execute_result"
    }
   ],
   "source": [
    "y = data['rating'].to_numpy()\n",
    "X = data.drop('rating', axis=1, errors='ignore').to_numpy()\n",
    "X.shape, y.shape"
   ]
  },
  {
   "cell_type": "code",
   "execution_count": 6,
   "metadata": {},
   "outputs": [],
   "source": [
    "from sklearn.model_selection import train_test_split\n",
    "\n",
    "X_train, X_test, y_train, y_test = train_test_split(X, y, test_size=0.2, random_state=42)"
   ]
  },
  {
   "cell_type": "markdown",
   "metadata": {},
   "source": [
    "## Linear classifier"
   ]
  },
  {
   "cell_type": "code",
   "execution_count": 7,
   "metadata": {},
   "outputs": [],
   "source": [
    "from sklearn.linear_model import LinearRegression\n",
    "from sklearn.metrics import mean_squared_error"
   ]
  },
  {
   "cell_type": "code",
   "execution_count": 16,
   "metadata": {},
   "outputs": [
    {
     "name": "stdout",
     "output_type": "stream",
     "text": [
      "Train RMSE: 1.0752317794463297\n",
      "Test RMSE: 1.0770118583133976\n"
     ]
    }
   ],
   "source": [
    "model = LinearRegression(n_jobs=-1)\n",
    "model.fit(X_train, y_train)\n",
    "print(\"Train RMSE:\", mean_squared_error(y_train, model.predict(X_train), squared=False))\n",
    "print(\"Test RMSE:\", mean_squared_error(y_test, model.predict(X_test), squared=False))"
   ]
  },
  {
   "cell_type": "markdown",
   "metadata": {},
   "source": [
    "## Neural network"
   ]
  },
  {
   "cell_type": "code",
   "execution_count": 8,
   "metadata": {},
   "outputs": [],
   "source": [
    "import torch\n",
    "from torch import nn\n",
    "from torch.utils.data import TensorDataset, DataLoader\n",
    "from torch import optim"
   ]
  },
  {
   "cell_type": "code",
   "execution_count": 9,
   "metadata": {},
   "outputs": [],
   "source": [
    "X_train_tensor = torch.FloatTensor(X_train)\n",
    "y_train_tensor = torch.FloatTensor(y_train) - 1\n",
    "X_test_tensor = torch.FloatTensor(X_test)\n",
    "y_test_tensor = torch.FloatTensor(y_test) - 1"
   ]
  },
  {
   "cell_type": "code",
   "execution_count": 10,
   "metadata": {},
   "outputs": [],
   "source": [
    "train_dataset = TensorDataset(X_train_tensor, y_train_tensor)\n",
    "test_dataset = TensorDataset(X_test_tensor, y_test_tensor)\n",
    "\n",
    "batch_size = 32\n",
    "train_loader = DataLoader(train_dataset, batch_size=batch_size, shuffle=True)\n",
    "test_loader = DataLoader(test_dataset, batch_size=batch_size, shuffle=False)"
   ]
  },
  {
   "cell_type": "code",
   "execution_count": 11,
   "metadata": {},
   "outputs": [],
   "source": [
    "class NeuralNet(nn.Module):\n",
    "    def __init__(self, input_size, hidden_size, output_size):\n",
    "        super(NeuralNet, self).__init__()\n",
    "        self.fc1 = nn.Linear(input_size, hidden_size)\n",
    "        self.fc2 = nn.Linear(hidden_size, hidden_size * 2)\n",
    "        self.fc3 = nn.Linear(hidden_size * 2, output_size)\n",
    "        self.relu = nn.ReLU()\n",
    "\n",
    "    def forward(self, x):\n",
    "        x = self.fc1(x)\n",
    "        x = self.relu(x)\n",
    "        x = self.fc2(x)\n",
    "        x = self.relu(x)\n",
    "        x = self.fc3(x)\n",
    "        return x"
   ]
  },
  {
   "cell_type": "code",
   "execution_count": 12,
   "metadata": {},
   "outputs": [],
   "source": [
    "input_size = 103\n",
    "hidden_size = 256\n",
    "output_size = 1\n",
    "model = NeuralNet(input_size, hidden_size, output_size)"
   ]
  },
  {
   "cell_type": "code",
   "execution_count": 13,
   "metadata": {},
   "outputs": [],
   "source": [
    "criterion = nn.MSELoss()\n",
    "optimizer = optim.Adam(model.parameters(), lr=0.0005)\n",
    "\n",
    "train_losses = []\n",
    "test_losses = []"
   ]
  },
  {
   "cell_type": "code",
   "execution_count": 14,
   "metadata": {},
   "outputs": [
    {
     "name": "stdout",
     "output_type": "stream",
     "text": [
      "Epoch 1/50\t train loss: 1.2379557599067688\t test loss: 1.1602476689338683\n",
      "Epoch 2/50\t train loss: 1.168810084450245\t test loss: 1.1440455794334412\n",
      "Epoch 3/50\t train loss: 1.1445805692076683\t test loss: 1.140311210823059\n",
      "Epoch 4/50\t train loss: 1.1260150890946388\t test loss: 1.1107820326805116\n",
      "Epoch 5/50\t train loss: 1.11353038803339\t test loss: 1.1208960433006288\n",
      "Epoch 6/50\t train loss: 1.100038271999359\t test loss: 1.0989303168296813\n",
      "Epoch 7/50\t train loss: 1.0899991375923157\t test loss: 1.0930332155227662\n",
      "Epoch 8/50\t train loss: 1.0848219673633575\t test loss: 1.0962074702262878\n",
      "Epoch 9/50\t train loss: 1.0756538738012313\t test loss: 1.1010095372200013\n",
      "Epoch 10/50\t train loss: 1.0736696387529374\t test loss: 1.0822801809310914\n",
      "Epoch 11/50\t train loss: 1.066584426677227\t test loss: 1.0775440304279327\n",
      "Epoch 12/50\t train loss: 1.059016715979576\t test loss: 1.0828353262901307\n",
      "Epoch 13/50\t train loss: 1.054636268377304\t test loss: 1.106488961982727\n",
      "Epoch 14/50\t train loss: 1.0467483553528785\t test loss: 1.0761144142150878\n",
      "Epoch 15/50\t train loss: 1.0443560983419418\t test loss: 1.0663936365127564\n",
      "Epoch 16/50\t train loss: 1.0382390065193177\t test loss: 1.0652860641002655\n",
      "Epoch 17/50\t train loss: 1.0318627589344977\t test loss: 1.061104057264328\n",
      "Epoch 18/50\t train loss: 1.0297097081303597\t test loss: 1.0586519181728362\n",
      "Epoch 19/50\t train loss: 1.0248373990774156\t test loss: 1.0601996047973632\n",
      "Epoch 20/50\t train loss: 1.0192318497538566\t test loss: 1.0593270910263062\n",
      "Epoch 21/50\t train loss: 1.014558643090725\t test loss: 1.0524767882347108\n",
      "Epoch 22/50\t train loss: 1.01153212672472\t test loss: 1.0711771742343903\n",
      "Epoch 23/50\t train loss: 1.00905496622324\t test loss: 1.0508369614601136\n",
      "Epoch 24/50\t train loss: 1.0050645992040634\t test loss: 1.0518417968273164\n",
      "Epoch 25/50\t train loss: 1.001218099462986\t test loss: 1.0768718827247619\n",
      "Epoch 26/50\t train loss: 0.9972108205318451\t test loss: 1.0462990113258361\n",
      "Epoch 27/50\t train loss: 0.9960857489466667\t test loss: 1.0478456404209138\n",
      "Epoch 28/50\t train loss: 0.9910475463271141\t test loss: 1.0489413766860962\n",
      "Epoch 29/50\t train loss: 0.9879862424135208\t test loss: 1.0542744557380677\n",
      "Epoch 30/50\t train loss: 0.9853257923364639\t test loss: 1.0637782572746277\n",
      "Epoch 31/50\t train loss: 0.9805426573157311\t test loss: 1.0409063594818115\n",
      "Epoch 32/50\t train loss: 0.9803750498890876\t test loss: 1.0477668712615966\n",
      "Epoch 33/50\t train loss: 0.9759949667692185\t test loss: 1.0421764053344726\n",
      "Epoch 34/50\t train loss: 0.9752026479363441\t test loss: 1.0391018028736114\n",
      "Epoch 35/50\t train loss: 0.9712506017804146\t test loss: 1.0547135622024537\n",
      "Epoch 36/50\t train loss: 0.969555040371418\t test loss: 1.0509151221752167\n",
      "Epoch 37/50\t train loss: 0.9690119663596153\t test loss: 1.0428073442459107\n",
      "Epoch 38/50\t train loss: 0.965529488825798\t test loss: 1.0521771993637086\n",
      "Epoch 39/50\t train loss: 0.9628420653700829\t test loss: 1.057063613462448\n",
      "Epoch 40/50\t train loss: 0.95912201628685\t test loss: 1.0425445683002472\n",
      "Epoch 41/50\t train loss: 0.9569087397933006\t test loss: 1.0464579288959504\n",
      "Epoch 42/50\t train loss: 0.9545751114726067\t test loss: 1.054944675207138\n",
      "Epoch 43/50\t train loss: 0.9523418872237206\t test loss: 1.061109331560135\n",
      "Epoch 44/50\t train loss: 0.9499550960302353\t test loss: 1.0522210135936738\n",
      "Epoch 45/50\t train loss: 0.9478293928861619\t test loss: 1.0472464257240295\n",
      "Epoch 46/50\t train loss: 0.9463144945502281\t test loss: 1.061102806854248\n",
      "Epoch 47/50\t train loss: 0.9430152109146118\t test loss: 1.0519580919742584\n",
      "Epoch 48/50\t train loss: 0.940710049521923\t test loss: 1.0387455881118774\n",
      "Epoch 49/50\t train loss: 0.9392340812563896\t test loss: 1.0389248943328857\n",
      "Epoch 50/50\t train loss: 0.9367945326566696\t test loss: 1.0700326923847199\n"
     ]
    }
   ],
   "source": [
    "num_epochs = 50\n",
    "\n",
    "for epoch in range(num_epochs):\n",
    "    model.train()\n",
    "    running_loss = 0.0\n",
    "\n",
    "    for inputs, labels in train_loader:\n",
    "        optimizer.zero_grad()\n",
    "        outputs = model(inputs).view(-1)\n",
    "        loss = criterion(outputs, labels)\n",
    "        loss.backward()\n",
    "        optimizer.step()\n",
    "\n",
    "        running_loss += loss.item()\n",
    "    \n",
    "    model.eval()\n",
    "    test_running_loss = 0.0\n",
    "\n",
    "    with torch.no_grad():\n",
    "        for inputs, labels in test_loader:\n",
    "            outputs = model(inputs)\n",
    "            _, predicted = torch.max(outputs.data, 1)\n",
    "            outputs = model(inputs).view(-1)\n",
    "            loss = criterion(outputs, labels)\n",
    "            test_running_loss += loss.item()\n",
    "\n",
    "    train_loss = running_loss/len(train_loader)\n",
    "    test_loss = test_running_loss/len(test_loader)\n",
    "    train_losses.append(train_loss)\n",
    "    test_losses.append(test_loss)\n",
    "    print(f\"Epoch {epoch+1}/{num_epochs}\\t train loss: {train_loss}\\t test loss: {test_loss}\")"
   ]
  },
  {
   "cell_type": "code",
   "execution_count": 16,
   "metadata": {},
   "outputs": [
    {
     "data": {
      "image/png": "[encoded data removed]",
      "text/plain": [
       "<Figure size 640x480 with 1 Axes>"
      ]
     },
     "metadata": {},
     "output_type": "display_data"
    }
   ],
   "source": [
    "import matplotlib.pyplot as plt\n",
    "\n",
    "plt.plot(train_losses, label='Train loss', color='green')\n",
    "plt.plot(test_losses, label='Test loss', color='red')\n",
    "plt.legend()\n",
    "plt.savefig(os.path.join(figures_folder, 'v1_nn_training.png'))\n",
    "plt.show()"
   ]
  },
  {
   "cell_type": "code",
   "execution_count": 28,
   "metadata": {},
   "outputs": [
    {
     "name": "stdout",
     "output_type": "stream",
     "text": [
      "Test Accuracy: 0.3785\n"
     ]
    }
   ],
   "source": [
    "# Evaluation on the test set\n",
    "model.eval()\n",
    "correct = 0\n",
    "total = 0\n",
    "\n",
    "all_labels = torch.Tensor(0)\n",
    "all_outputs = torch.Tensor(0)\n",
    "all_outputs_rounded = torch.Tensor(0)\n",
    "\n",
    "with torch.no_grad():\n",
    "    for inputs, labels in test_loader:\n",
    "        outputs = model(inputs).view(-1)\n",
    "        rounded = torch.round(outputs)\n",
    "        total += labels.size(0)\n",
    "        correct += (rounded == labels).sum().item()\n",
    "\n",
    "        all_labels = torch.cat((all_labels, labels))\n",
    "        all_outputs = torch.cat((all_outputs, outputs))\n",
    "        all_outputs_rounded = torch.cat((all_outputs_rounded, rounded))\n",
    "\n",
    "accuracy = correct / total\n",
    "print(f\"Test Accuracy: {accuracy}\")"
   ]
  },
  {
   "cell_type": "markdown",
   "metadata": {},
   "source": [
    "RMSE loss:"
   ]
  },
  {
   "cell_type": "code",
   "execution_count": 27,
   "metadata": {},
   "outputs": [
    {
     "data": {
      "text/plain": [
       "1.0344238"
      ]
     },
     "execution_count": 27,
     "metadata": {},
     "output_type": "execute_result"
    }
   ],
   "source": [
    "mean_squared_error(all_labels.numpy(), all_outputs.numpy(), squared=False)"
   ]
  },
  {
   "cell_type": "code",
   "execution_count": 29,
   "metadata": {},
   "outputs": [
    {
     "data": {
      "image/png": "[encoded data removed]",
      "text/plain": [
       "<Figure size 640x480 with 2 Axes>"
      ]
     },
     "metadata": {},
     "output_type": "display_data"
    }
   ],
   "source": [
    "import seaborn as sns\n",
    "\n",
    "confusion_matrix = pd.crosstab(all_labels, all_outputs_rounded, rownames=['Actual'], colnames=['Predicted'])\n",
    "sns.heatmap(confusion_matrix, annot=True, fmt='d', cmap='Blues')\n",
    "plt.savefig(os.path.join(figures_folder, 'v1_nn_confusion_mtr.png'))\n",
    "plt.show()"
   ]
  },
  {
   "cell_type": "markdown",
   "metadata": {},
   "source": [
    "## Analyzing results"
   ]
  },
  {
   "cell_type": "markdown",
   "metadata": {},
   "source": [
    "As we can see, this straightforward approach does not perform well (I have tried many NN architectures, regularizations, etc). We can clearly see that model can find train-specific patterns, but this patterns are not common, so the model just overfits. I believe this is because these models do not analyze data about a certain user or film, while it is essential to analyze each particular user info and ratings separately."
   ]
  },
  {
   "cell_type": "markdown",
   "metadata": {},
   "source": [
    "**Now I will try a different approach** to solve this task. I will engineer data again in '3.1-data-engineering.ipynb', train another model in '4.1-model-selection' and etc."
   ]
  }
 ],
 "metadata": {
  "kernelspec": {
   "display_name": "Python 3 (ipykernel)",
   "language": "python",
   "name": "python3"
  },
  "language_info": {
   "codemirror_mode": {
    "name": "ipython",
    "version": 3
   },
   "file_extension": ".py",
   "mimetype": "text/x-python",
   "name": "python",
   "nbconvert_exporter": "python",
   "pygments_lexer": "ipython3",
   "version": "3.10.7"
  }
 },
 "nbformat": 4,
 "nbformat_minor": 2
}
